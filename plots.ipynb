{
 "cells": [
  {
   "cell_type": "code",
   "execution_count": 2,
   "metadata": {
    "collapsed": true
   },
   "outputs": [],
   "source": [
    "%matplotlib inline\n",
    "import matplotlib.pyplot as plt"
   ]
  },
  {
   "cell_type": "code",
   "execution_count": 3,
   "metadata": {
    "collapsed": true,
    "scrolled": true
   },
   "outputs": [],
   "source": [
    "import xarray as xr"
   ]
  },
  {
   "cell_type": "code",
   "execution_count": 4,
   "metadata": {
    "collapsed": true
   },
   "outputs": [],
   "source": [
    "diff = xr.open_dataset(\"/home/clark/data/pems/I80diffs.nc\")"
   ]
  },
  {
   "cell_type": "code",
   "execution_count": 5,
   "metadata": {
    "collapsed": false
   },
   "outputs": [
    {
     "data": {
      "text/plain": [
       "<xarray.Dataset>\n",
       "Dimensions:    (Abs_PM: 164, day: 21, minute: 288)\n",
       "Coordinates:\n",
       "  * minute     (minute) int32 0 5 10 15 20 25 30 35 40 45 50 55 60 65 70 75 ...\n",
       "  * Abs_PM     (Abs_PM) float64 3.3 4.48 4.59 4.7 4.8 4.91 5.09 5.19 5.28 ...\n",
       "  * day        (day) |S14 b'2016_04_01.csv' b'2016_04_04.csv' ...\n",
       "Data variables:\n",
       "    occupancy  (day, minute, Abs_PM) float64 0.0026 0.0031 0.002 0.0023 ..."
      ]
     },
     "execution_count": 5,
     "metadata": {},
     "output_type": "execute_result"
    }
   ],
   "source": [
    "diff"
   ]
  },
  {
   "cell_type": "code",
   "execution_count": 6,
   "metadata": {
    "collapsed": false
   },
   "outputs": [],
   "source": [
    "d = diff['occupancy']"
   ]
  },
  {
   "cell_type": "code",
   "execution_count": null,
   "metadata": {
    "collapsed": false,
    "scrolled": true
   },
   "outputs": [],
   "source": [
    "# Drop the first day to make a plot aligned on weekdays\n",
    "d[1:, :, :].plot.pcolormesh(x = \"minute\", y = \"Abs_PM\",\n",
    "                            col = \"day\", col_wrap = 5, size = 5, ratio = 1)\n",
    "\n",
    "plt.savefig(\"diffs.png\")"
   ]
  },
  {
   "cell_type": "code",
   "execution_count": 27,
   "metadata": {
    "collapsed": true
   },
   "outputs": [],
   "source": [
    "plt.savefig?"
   ]
  }
 ],
 "metadata": {
  "anaconda-cloud": {},
  "kernelspec": {
   "display_name": "Python [Root]",
   "language": "python",
   "name": "Python [Root]"
  },
  "language_info": {
   "codemirror_mode": {
    "name": "ipython",
    "version": 3
   },
   "file_extension": ".py",
   "mimetype": "text/x-python",
   "name": "python",
   "nbconvert_exporter": "python",
   "pygments_lexer": "ipython3",
   "version": "3.5.2"
  }
 },
 "nbformat": 4,
 "nbformat_minor": 0
}
